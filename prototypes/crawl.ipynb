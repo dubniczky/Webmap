{
 "cells": [
  {
   "cell_type": "code",
   "execution_count": 1,
   "metadata": {},
   "outputs": [],
   "source": [
    "import re\n",
    "import requests"
   ]
  },
  {
   "cell_type": "code",
   "execution_count": 10,
   "metadata": {},
   "outputs": [],
   "source": [
    "def get(url):\n",
    "    req = requests.get(url, allow_redirects=True)\n",
    "    if req:\n",
    "        return str(req.content)\n",
    "    else:\n",
    "        return None"
   ]
  },
  {
   "cell_type": "code",
   "execution_count": 25,
   "metadata": {},
   "outputs": [],
   "source": [
    "def extract_hrefs(html):\n",
    "    res = re.findall(r'href=\"(.*?)\"', html)\n",
    "    if not res:\n",
    "        return []\n",
    "    else:\n",
    "        return res"
   ]
  },
  {
   "cell_type": "code",
   "execution_count": 26,
   "metadata": {},
   "outputs": [
    {
     "data": {
      "text/plain": [
       "['./styles/index.css',\n",
       " './styles/fonts.css',\n",
       " './styles/main.css',\n",
       " './styles/whole-image.css',\n",
       " './styles/statistics.css',\n",
       " './styles/header.css',\n",
       " './styles/who-are-we.css',\n",
       " './styles/reference.css',\n",
       " './styles/contact.css',\n",
       " './styles/footer.css',\n",
       " './styles/typewrite.css']"
      ]
     },
     "execution_count": 26,
     "metadata": {},
     "output_type": "execute_result"
    }
   ],
   "source": [
    "extract_hrefs( get('http://netpeak.hu') )"
   ]
  }
 ],
 "metadata": {
  "interpreter": {
   "hash": "f871ce86094cfd9bc401599a69fdf6db5edc218bdd8bae3360dfb1390034ef30"
  },
  "kernelspec": {
   "display_name": "Python 3.10.4 64-bit",
   "language": "python",
   "name": "python3"
  },
  "language_info": {
   "codemirror_mode": {
    "name": "ipython",
    "version": 3
   },
   "file_extension": ".py",
   "mimetype": "text/x-python",
   "name": "python",
   "nbconvert_exporter": "python",
   "pygments_lexer": "ipython3",
   "version": "3.10.4"
  },
  "orig_nbformat": 4
 },
 "nbformat": 4,
 "nbformat_minor": 2
}
