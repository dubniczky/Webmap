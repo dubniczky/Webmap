{
 "cells": [
  {
   "cell_type": "code",
   "execution_count": 27,
   "metadata": {},
   "outputs": [],
   "source": [
    "import re\n",
    "import requests"
   ]
  },
  {
   "cell_type": "code",
   "execution_count": 31,
   "metadata": {},
   "outputs": [],
   "source": [
    "examplesite = '''\n",
    "\n",
    "<!DOCTYPE html>\n",
    "<html lang=\"en\">\n",
    "    <head>\n",
    "        <meta charset=\"UTF-8\" />\n",
    "        <meta http-equiv=\"X-UA-Compatible\" content=\"IE=edge\" />\n",
    "        <meta name=\"viewport\" content=\"width=device-width, initial-scale=1.0\" />\n",
    "        <title>df</title>\n",
    "        <link rel=\"stylesheet\" href=\"./styles/index.css\" />\n",
    "        <link rel=\"stylesheet\" href=\"./styles/fonts.css\" />\n",
    "        <link rel=\"stylesheet\" href=\"./styles/main.css\" />\n",
    "        <link rel=\"stylesheet\" href=\"./styles/whole-image.css\" />\n",
    "\n",
    "        <script defer src=\"scripts/typewriter.js\"></script>\n",
    "    </head>\n",
    "    <body>\n",
    "    http://asd.com/a/b.jpg\n",
    "        <div class=\"navigation\">\n",
    "            <ul>\n",
    "                <li id=\"current-nav\"></li>\n",
    "                <li></li>\n",
    "                <li></li>\n",
    "                <li></li>\n",
    "                <li></li>\n",
    "                <li>https://asd.co.uk/a/b#3</li>\n",
    "            </ul>\n",
    "        </div>\n",
    "        <header>\n",
    "\n",
    "\n",
    "\n",
    "'''"
   ]
  },
  {
   "cell_type": "code",
   "execution_count": 28,
   "metadata": {},
   "outputs": [],
   "source": [
    "def get(url):\n",
    "    req = requests.get(url, allow_redirects=True)\n",
    "    if req:\n",
    "        return str(req.content)\n",
    "    else:\n",
    "        return None"
   ]
  },
  {
   "cell_type": "code",
   "execution_count": 29,
   "metadata": {},
   "outputs": [],
   "source": [
    "def extract_hrefs(html):\n",
    "    res = re.findall(r'href=\"(.*?)\"', html)\n",
    "    if not res:\n",
    "        return []\n",
    "    else:\n",
    "        return res"
   ]
  },
  {
   "cell_type": "code",
   "execution_count": 30,
   "metadata": {},
   "outputs": [
    {
     "data": {
      "text/plain": [
       "['./styles/index.css',\n",
       " './styles/fonts.css',\n",
       " './styles/main.css',\n",
       " './styles/whole-image.css',\n",
       " './styles/statistics.css',\n",
       " './styles/header.css',\n",
       " './styles/who-are-we.css',\n",
       " './styles/reference.css',\n",
       " './styles/contact.css',\n",
       " './styles/footer.css',\n",
       " './styles/typewrite.css']"
      ]
     },
     "execution_count": 30,
     "metadata": {},
     "output_type": "execute_result"
    }
   ],
   "source": [
    "extract_hrefs( get('http://netpeak.hu') )"
   ]
  },
  {
   "cell_type": "code",
   "execution_count": null,
   "metadata": {},
   "outputs": [],
   "source": [
    "def extract_hrefs(html):\n",
    "    return re.findall(r'href=\"(.*?)\"', html) or []"
   ]
  },
  {
   "cell_type": "code",
   "execution_count": 39,
   "metadata": {},
   "outputs": [],
   "source": [
    "def extract_rawurls(html : str):\n",
    "    return re.findall(r'(https?://.*?)[^A-Za-z0-9-_./?#:@!$&%*+,;=~]', html) or []"
   ]
  },
  {
   "cell_type": "code",
   "execution_count": 41,
   "metadata": {},
   "outputs": [
    {
     "data": {
      "text/plain": [
       "(['http://asd.com/a/b.jpg', 'https://asd.co.uk/a/b#3'], [])"
      ]
     },
     "execution_count": 41,
     "metadata": {},
     "output_type": "execute_result"
    }
   ],
   "source": [
    "extract_rawurls(examplesite), extract_rawurls('')"
   ]
  }
 ],
 "metadata": {
  "interpreter": {
   "hash": "f871ce86094cfd9bc401599a69fdf6db5edc218bdd8bae3360dfb1390034ef30"
  },
  "kernelspec": {
   "display_name": "Python 3.10.4 64-bit",
   "language": "python",
   "name": "python3"
  },
  "language_info": {
   "codemirror_mode": {
    "name": "ipython",
    "version": 3
   },
   "file_extension": ".py",
   "mimetype": "text/x-python",
   "name": "python",
   "nbconvert_exporter": "python",
   "pygments_lexer": "ipython3",
   "version": "3.10.4"
  },
  "orig_nbformat": 4
 },
 "nbformat": 4,
 "nbformat_minor": 2
}
